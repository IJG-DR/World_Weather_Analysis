{
 "cells": [
  {
   "cell_type": "markdown",
   "id": "33defd95",
   "metadata": {},
   "source": [
    "## MODULE 6.1.4 - Generate Random Latitudes and Longitudes"
   ]
  },
  {
   "cell_type": "code",
   "execution_count": 1,
   "id": "f97c0865",
   "metadata": {},
   "outputs": [],
   "source": [
    "# Import the random module.\n",
    "import random"
   ]
  },
  {
   "cell_type": "markdown",
   "id": "91b5a942",
   "metadata": {},
   "source": [
    "### The randint() Function"
   ]
  },
  {
   "cell_type": "code",
   "execution_count": 2,
   "id": "8c926d80",
   "metadata": {},
   "outputs": [
    {
     "data": {
      "text/plain": [
       "63"
      ]
     },
     "execution_count": 2,
     "metadata": {},
     "output_type": "execute_result"
    }
   ],
   "source": [
    "# Generate a random integer between -90 and +90\n",
    "random.randint(-90,90)"
   ]
  },
  {
   "cell_type": "markdown",
   "id": "0aece15c",
   "metadata": {},
   "source": [
    "### The random() Function"
   ]
  },
  {
   "cell_type": "code",
   "execution_count": 3,
   "id": "f56fd6e2",
   "metadata": {},
   "outputs": [
    {
     "data": {
      "text/plain": [
       "0.030387751548486275"
      ]
     },
     "execution_count": 3,
     "metadata": {},
     "output_type": "execute_result"
    }
   ],
   "source": [
    "# Generate a random floating point integer between 0 and 1.0\n",
    "random.random()"
   ]
  },
  {
   "cell_type": "code",
   "execution_count": 4,
   "id": "68aae9a7",
   "metadata": {},
   "outputs": [
    {
     "data": {
      "text/plain": [
       "-77.27173405583439"
      ]
     },
     "execution_count": 4,
     "metadata": {},
     "output_type": "execute_result"
    }
   ],
   "source": [
    "# Generate a random number with decimal between -90 and 90.\n",
    "# Use 89 as top limit since you are adding a decimal random number.\n",
    "random_number = random.randint(-90,89) + random.random()\n",
    "random_number"
   ]
  },
  {
   "cell_type": "code",
   "execution_count": 5,
   "id": "12f88a95",
   "metadata": {},
   "outputs": [
    {
     "data": {
      "text/plain": [
       "[19.723374709042574,\n",
       " -71.95112302313855,\n",
       " 53.19599303120634,\n",
       " -3.0422604064686056,\n",
       " 75.63120905122643,\n",
       " -69.55545369349004,\n",
       " 66.41487670244706,\n",
       " 71.51623331905152,\n",
       " 42.61375896026533,\n",
       " -34.39856921605995]"
      ]
     },
     "execution_count": 5,
     "metadata": {},
     "output_type": "execute_result"
    }
   ],
   "source": [
    "# generate ten random floating-point decimal latitudes between –90 and 89.\n",
    "x = 1\n",
    "latitudes = []\n",
    "while x < 11:\n",
    "    random_lat = random.randint(-90, 89) + random.random()\n",
    "    latitudes.append(random_lat)\n",
    "    x += 1\n",
    "\n",
    "latitudes"
   ]
  },
  {
   "cell_type": "markdown",
   "id": "327fd9d7",
   "metadata": {},
   "source": [
    "### The randrange() Function"
   ]
  },
  {
   "cell_type": "code",
   "execution_count": 6,
   "id": "b4fc683f",
   "metadata": {},
   "outputs": [
    {
     "data": {
      "text/plain": [
       "-19"
      ]
     },
     "execution_count": 6,
     "metadata": {},
     "output_type": "execute_result"
    }
   ],
   "source": [
    "# Generate a random number where the difference between each \n",
    "# number is 1. 1 is the default if not specified.\n",
    "random.randrange(-90, 90, step=1)"
   ]
  },
  {
   "cell_type": "code",
   "execution_count": 7,
   "id": "30532565",
   "metadata": {},
   "outputs": [
    {
     "data": {
      "text/plain": [
       "3"
      ]
     },
     "execution_count": 7,
     "metadata": {},
     "output_type": "execute_result"
    }
   ],
   "source": [
    "# Generate a random number where the difference between each \n",
    "# number is 3.\n",
    "random.randrange(-90, 90, step=3)"
   ]
  },
  {
   "cell_type": "markdown",
   "id": "3057e749",
   "metadata": {},
   "source": [
    "### The uniform() Function"
   ]
  },
  {
   "cell_type": "code",
   "execution_count": 8,
   "id": "de44be6a",
   "metadata": {},
   "outputs": [
    {
     "data": {
      "text/plain": [
       "25.42195345856193"
      ]
     },
     "execution_count": 8,
     "metadata": {},
     "output_type": "execute_result"
    }
   ],
   "source": [
    "# Generate a floating-point decimal number between two given \n",
    "# numbers inside the parentheses using the uniform function.\n",
    "random.uniform(-90,90)"
   ]
  },
  {
   "cell_type": "markdown",
   "id": "2525409b",
   "metadata": {},
   "source": [
    "### The NumPy and random Modules"
   ]
  },
  {
   "cell_type": "code",
   "execution_count": 9,
   "id": "29f6f1ee",
   "metadata": {},
   "outputs": [],
   "source": [
    "# Import the NumPy module.\n",
    "import numpy as np"
   ]
  },
  {
   "cell_type": "code",
   "execution_count": 10,
   "id": "bfa10f6f",
   "metadata": {},
   "outputs": [
    {
     "data": {
      "text/plain": [
       "-66.17153037990349"
      ]
     },
     "execution_count": 10,
     "metadata": {},
     "output_type": "execute_result"
    }
   ],
   "source": [
    "np.random.uniform(-90.000, 90.000)"
   ]
  },
  {
   "cell_type": "code",
   "execution_count": 11,
   "id": "35413608",
   "metadata": {},
   "outputs": [
    {
     "data": {
      "text/plain": [
       "36.99963466260007"
      ]
     },
     "execution_count": 11,
     "metadata": {},
     "output_type": "execute_result"
    }
   ],
   "source": [
    "# NOTE: Another option is to write the parameters as \n",
    "np.random.uniform(low=-90, high=90)"
   ]
  },
  {
   "cell_type": "code",
   "execution_count": 12,
   "id": "31dcd70d",
   "metadata": {},
   "outputs": [
    {
     "data": {
      "text/plain": [
       "array([ 27.26505613, -29.03891159, -55.80243059,  18.50979118,\n",
       "         1.65998137, -78.89778433,  60.09511724, -81.05734468,\n",
       "        -1.49138072, -32.66429029, -27.32093037, -65.04638964,\n",
       "        20.81508344, -41.65911646, -64.79454692, -34.3179952 ,\n",
       "       -86.77295643, -30.94505479, -26.72719099,  86.3697073 ,\n",
       "         2.59994318,  68.61565595,  54.26728157, -85.81272018,\n",
       "        -7.20762757,   5.18348405, -11.58765882,  78.15015667,\n",
       "       -38.92741626, -86.73930115,   7.38125891, -72.65596073,\n",
       "         4.32104283,  34.55490298,  86.18131843,  84.61947645,\n",
       "        48.48424981,  -2.80806697, -59.42203882,  -8.94044103,\n",
       "       -84.06203402,  78.5715031 ,  47.25600737,  -1.15132369,\n",
       "        27.09130163,  12.40099731,  42.86124635, -89.66447862,\n",
       "        84.54661369,  31.12445969])"
      ]
     },
     "execution_count": 12,
     "metadata": {},
     "output_type": "execute_result"
    }
   ],
   "source": [
    "# Generate an array of 50 floating-point decimal numbers \n",
    "# between –90.000 and 90.000.\n",
    "np.random.uniform(-90.000, 90.000, size=50)"
   ]
  },
  {
   "cell_type": "markdown",
   "id": "84f30462",
   "metadata": {},
   "source": [
    "### %timeit magic command"
   ]
  },
  {
   "cell_type": "code",
   "execution_count": 14,
   "id": "d97dfd19",
   "metadata": {},
   "outputs": [
    {
     "name": "stdout",
     "output_type": "stream",
     "text": [
      "15.2 µs ± 349 ns per loop (mean ± std. dev. of 7 runs, 100000 loops each)\n"
     ]
    }
   ],
   "source": [
    "# To test how long a piece of code or function takes to run, \n",
    "# we can import the \"timeit\" module and use the %timeit magic \n",
    "# command when we run our code or call the function.\n",
    "\n",
    "# First, import the timeit module.\n",
    "\n",
    "import timeit\n",
    "\n",
    "%timeit np.random.uniform(-90.000, 90.000, size=1500)\n",
    "\n",
    "# The output is the amount of time it took to run this code, \n",
    "# which is an average of 14.6 microseconds. The amount of time \n",
    "# it takes to run this code depends on the processing speed and \n",
    "# the RAM of your computer."
   ]
  },
  {
   "cell_type": "code",
   "execution_count": 15,
   "id": "47ccde12",
   "metadata": {},
   "outputs": [
    {
     "name": "stdout",
     "output_type": "stream",
     "text": [
      "1.8 ms ± 50.8 µs per loop (mean ± std. dev. of 7 runs, 100 loops each)\n"
     ]
    }
   ],
   "source": [
    "def latitudes(size):\n",
    "    latitudes = []\n",
    "    x = 0\n",
    "    while x < (size):\n",
    "        random_lat = random.randint(-90, 90) + random.random()\n",
    "        latitudes.append(random_lat)\n",
    "        x += 1\n",
    "    return latitudes\n",
    "\n",
    "# Call the function with 1500 random latitudes.\n",
    "%timeit latitudes(1500)"
   ]
  },
  {
   "cell_type": "markdown",
   "id": "ecb7fb9f",
   "metadata": {},
   "source": [
    "### SKILL DRILL - Refactor the code for the while loop with the %timeit magic command and write a for loop that will generate the 1,500 latitudes."
   ]
  },
  {
   "cell_type": "code",
   "execution_count": 31,
   "id": "062d060d",
   "metadata": {},
   "outputs": [
    {
     "name": "stdout",
     "output_type": "stream",
     "text": [
      "1.75 ms ± 39.6 µs per loop (mean ± std. dev. of 7 runs, 100 loops each)\n"
     ]
    }
   ],
   "source": [
    "def latitudes_2(size):\n",
    "    latitudes_2 = []\n",
    "\n",
    "    for x in range(1500):\n",
    "        random_lat = random.randint(-90, 90) + random.random()\n",
    "        latitudes_2.append(random_lat)\n",
    "\n",
    "# Call the function with 1500 random latitudes.\n",
    "%timeit latitudes_2(1500)"
   ]
  },
  {
   "cell_type": "code",
   "execution_count": 32,
   "id": "309bfdab",
   "metadata": {},
   "outputs": [
    {
     "ename": "TypeError",
     "evalue": "object of type 'function' has no len()",
     "output_type": "error",
     "traceback": [
      "\u001b[0;31m---------------------------------------------------------------------------\u001b[0m",
      "\u001b[0;31mTypeError\u001b[0m                                 Traceback (most recent call last)",
      "\u001b[0;32m/var/folders/2l/6pphhtn50vd71qb3sgnwxgg80000gn/T/ipykernel_957/392015876.py\u001b[0m in \u001b[0;36m<module>\u001b[0;34m\u001b[0m\n\u001b[0;32m----> 1\u001b[0;31m \u001b[0mprint\u001b[0m\u001b[0;34m(\u001b[0m\u001b[0mlen\u001b[0m\u001b[0;34m(\u001b[0m\u001b[0mlatitudes_2\u001b[0m\u001b[0;34m)\u001b[0m\u001b[0;34m)\u001b[0m\u001b[0;34m\u001b[0m\u001b[0;34m\u001b[0m\u001b[0m\n\u001b[0m",
      "\u001b[0;31mTypeError\u001b[0m: object of type 'function' has no len()"
     ]
    }
   ],
   "source": []
  },
  {
   "cell_type": "code",
   "execution_count": null,
   "id": "1cba6172",
   "metadata": {},
   "outputs": [],
   "source": []
  }
 ],
 "metadata": {
  "kernelspec": {
   "display_name": "Python 3 (ipykernel)",
   "language": "python",
   "name": "python3"
  },
  "language_info": {
   "codemirror_mode": {
    "name": "ipython",
    "version": 3
   },
   "file_extension": ".py",
   "mimetype": "text/x-python",
   "name": "python",
   "nbconvert_exporter": "python",
   "pygments_lexer": "ipython3",
   "version": "3.8.2"
  }
 },
 "nbformat": 4,
 "nbformat_minor": 5
}
